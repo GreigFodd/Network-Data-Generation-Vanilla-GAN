{
  "nbformat": 4,
  "nbformat_minor": 0,
  "metadata": {
    "colab": {
      "name": "evaluationClassifier.ipynb",
      "provenance": [],
      "collapsed_sections": [],
      "authorship_tag": "ABX9TyNa5klvsEscPV41psCoE5Bq",
      "include_colab_link": true
    },
    "kernelspec": {
      "display_name": "Python 3",
      "name": "python3"
    }
  },
  "cells": [
    {
      "cell_type": "markdown",
      "metadata": {
        "id": "view-in-github",
        "colab_type": "text"
      },
      "source": [
        "<a href=\"https://colab.research.google.com/github/GreigFodd/Network-Data-Generation-Vanilla-GAN/blob/main/evaluationClassifier.ipynb\" target=\"_parent\"><img src=\"https://colab.research.google.com/assets/colab-badge.svg\" alt=\"Open In Colab\"/></a>"
      ]
    },
    {
      "cell_type": "markdown",
      "metadata": {
        "id": "MGJpk7LfkS-L"
      },
      "source": [
        "Classifier model previously created will now perform same classification on synthetically generated data. Results used for comparison. If evaluation metrics and confusion matrix are similar, will indicate GAN can be used to generate high quality network data."
      ]
    },
    {
      "cell_type": "code",
      "metadata": {
        "id": "XeGovD3lhw2a"
      },
      "source": [
        "import pandas as pd\n",
        "import keras\n",
        "import tensorflow as tf\n",
        "import numpy as np"
      ],
      "execution_count": 1,
      "outputs": []
    },
    {
      "cell_type": "code",
      "metadata": {
        "colab": {
          "base_uri": "https://localhost:8080/"
        },
        "id": "5azBrXdWiCKf",
        "outputId": "9e7364e8-4065-4a1f-b3a1-816a84d6520c"
      },
      "source": [
        "from google.colab import drive\n",
        "drive.mount('/content/drive')"
      ],
      "execution_count": 2,
      "outputs": [
        {
          "output_type": "stream",
          "name": "stdout",
          "text": [
            "Mounted at /content/drive\n"
          ]
        }
      ]
    },
    {
      "cell_type": "code",
      "metadata": {
        "id": "N6Pons9IiDXK"
      },
      "source": [
        "df_real = pd.read_csv('/content/drive/MyDrive/Colab/ProjectData/data.csv')\n",
        "df_benign_samples = pd.read_csv('/content/drive/MyDrive/Colab/ProjectData/generated_samples/gen_benign_samples.csv')\n",
        "df_dosHulk_samples = pd.read_csv('/content/drive/MyDrive/Colab/ProjectData/generated_samples/gen_dosHulk_samples.csv')\n",
        "df_sshPatator_samples = pd.read_csv('/content/drive/MyDrive/Colab/ProjectData/generated_samples/gen_sshPatator_samples.csv')\n",
        "df_dosSlowloris_samples = pd.read_csv('/content/drive/MyDrive/Colab/ProjectData/generated_samples/gen_dosSlowloris_samples.csv')\n",
        "df_heartbleed_samples = pd.read_csv('/content/drive/MyDrive/Colab/ProjectData/generated_samples/gen_heartbleed_samples.csv')\n",
        "df_infiltration_samples = pd.read_csv('/content/drive/MyDrive/Colab/ProjectData/generated_samples/gen_infiltration_samples.csv')"
      ],
      "execution_count": 3,
      "outputs": []
    },
    {
      "cell_type": "code",
      "metadata": {
        "id": "cFMogR4xUrZ5"
      },
      "source": [
        "df_benign_samples['label'] = 0\n",
        "df_dosHulk_samples['label'] = 1\n",
        "df_sshPatator_samples['label'] = 5\n",
        "df_dosSlowloris_samples['label'] = 2\n",
        "df_infiltration_samples['label'] = 4\n",
        "df_heartbleed_samples['label'] = 3"
      ],
      "execution_count": 4,
      "outputs": []
    },
    {
      "cell_type": "code",
      "metadata": {
        "id": "zZ99V24RVQKh"
      },
      "source": [
        "df_benign_samples = df_benign_samples.drop('Unnamed: 0', axis=1)\n",
        "df_dosHulk_samples = df_dosHulk_samples.drop('Unnamed: 0', axis=1)\n",
        "df_sshPatator_samples = df_sshPatator_samples.drop('Unnamed: 0', axis=1)\n",
        "df_dosSlowloris_samples = df_dosSlowloris_samples.drop('Unnamed: 0', axis=1)\n",
        "df_infiltration_samples = df_infiltration_samples.drop('Unnamed: 0', axis=1)\n",
        "df_heartbleed_samples = df_heartbleed_samples.drop('Unnamed: 0', axis=1)"
      ],
      "execution_count": 5,
      "outputs": []
    },
    {
      "cell_type": "code",
      "metadata": {
        "id": "d-i-RqMqZLIY"
      },
      "source": [
        "# combine all generated samples into one dataframe for classification\n",
        "\n",
        "df_synthetic = pd.concat([df_benign_samples, df_dosHulk_samples, df_sshPatator_samples, df_dosSlowloris_samples, df_heartbleed_samples, df_infiltration_samples], axis= 0)"
      ],
      "execution_count": 6,
      "outputs": []
    },
    {
      "cell_type": "code",
      "metadata": {
        "colab": {
          "base_uri": "https://localhost:8080/"
        },
        "id": "Bnnz1qkmZnIy",
        "outputId": "22f379a2-956d-42e8-a92a-16ac64d86f13"
      },
      "source": [
        "df_synthetic['label'].value_counts()"
      ],
      "execution_count": 7,
      "outputs": [
        {
          "output_type": "execute_result",
          "data": {
            "text/plain": [
              "0    1170495\n",
              "1      70302\n",
              "5       2922\n",
              "2       2332\n",
              "3         11\n",
              "4          4\n",
              "Name: label, dtype: int64"
            ]
          },
          "metadata": {},
          "execution_count": 7
        }
      ]
    },
    {
      "cell_type": "code",
      "metadata": {
        "colab": {
          "base_uri": "https://localhost:8080/"
        },
        "id": "iCN4YlwxKUof",
        "outputId": "6e28c5b5-d731-4902-f120-26132dbd793f"
      },
      "source": [
        "df_real.label.value_counts()"
      ],
      "execution_count": 8,
      "outputs": [
        {
          "output_type": "execute_result",
          "data": {
            "text/plain": [
              "0    1170722\n",
              "1      70619\n",
              "5       2922\n",
              "2       2332\n",
              "3         11\n",
              "4          4\n",
              "Name: label, dtype: int64"
            ]
          },
          "metadata": {},
          "execution_count": 8
        }
      ]
    },
    {
      "cell_type": "code",
      "metadata": {
        "id": "SKObo8SlbBhC"
      },
      "source": [
        "df_real['label'] = df_real['label'].astype('category').cat.codes"
      ],
      "execution_count": 9,
      "outputs": []
    },
    {
      "cell_type": "code",
      "metadata": {
        "colab": {
          "base_uri": "https://localhost:8080/"
        },
        "id": "n9zhNdHoUbqT",
        "outputId": "1c25ce22-2efc-49ba-9a4f-747e27a8266d"
      },
      "source": [
        "df_real.label.value_counts()"
      ],
      "execution_count": 10,
      "outputs": [
        {
          "output_type": "execute_result",
          "data": {
            "text/plain": [
              "0    1170722\n",
              "1      70619\n",
              "5       2922\n",
              "2       2332\n",
              "3         11\n",
              "4          4\n",
              "Name: label, dtype: int64"
            ]
          },
          "metadata": {},
          "execution_count": 10
        }
      ]
    },
    {
      "cell_type": "code",
      "metadata": {
        "id": "r1mwuNljj6nU"
      },
      "source": [
        "df_synthetic['label'] = df_synthetic['label'].astype('category').cat.codes"
      ],
      "execution_count": 11,
      "outputs": []
    },
    {
      "cell_type": "code",
      "metadata": {
        "colab": {
          "base_uri": "https://localhost:8080/"
        },
        "id": "FTk7zRhMkErm",
        "outputId": "aa143a2d-50c4-4fcb-b8d5-9ea863d5a359"
      },
      "source": [
        "df_synthetic['label'].value_counts()"
      ],
      "execution_count": 12,
      "outputs": [
        {
          "output_type": "execute_result",
          "data": {
            "text/plain": [
              "0    1170495\n",
              "1      70302\n",
              "5       2922\n",
              "2       2332\n",
              "3         11\n",
              "4          4\n",
              "Name: label, dtype: int64"
            ]
          },
          "metadata": {},
          "execution_count": 12
        }
      ]
    },
    {
      "cell_type": "code",
      "metadata": {
        "id": "e4h6vOa5aHQe"
      },
      "source": [
        "X_real = df_real.drop('label', axis=1)\n",
        "y_real = df_real.label\n",
        "X_syn = df_synthetic.drop('label', axis = 1)\n",
        "y_syn = df_synthetic.label"
      ],
      "execution_count": 13,
      "outputs": []
    },
    {
      "cell_type": "code",
      "metadata": {
        "id": "pLk95Rtrgjvw"
      },
      "source": [
        "from sklearn.preprocessing import PowerTransformer\n",
        "pw= PowerTransformer(method='yeo-johnson', standardize=True, copy=True)"
      ],
      "execution_count": 14,
      "outputs": []
    },
    {
      "cell_type": "code",
      "metadata": {
        "id": "x7ltIqlvgt0P"
      },
      "source": [
        "X_real = pw.fit_transform(X_real[X_real.columns])"
      ],
      "execution_count": 15,
      "outputs": []
    },
    {
      "cell_type": "code",
      "metadata": {
        "id": "ITMithg3g0DK"
      },
      "source": [
        "X_real = pd.DataFrame(X_real)"
      ],
      "execution_count": 16,
      "outputs": []
    },
    {
      "cell_type": "code",
      "metadata": {
        "id": "_5f9UhfN979c"
      },
      "source": [
        "X_syn = pw.fit_transform(X_syn[X_syn.columns])"
      ],
      "execution_count": 17,
      "outputs": []
    },
    {
      "cell_type": "code",
      "metadata": {
        "id": "3sfhUrb8-Blt"
      },
      "source": [
        "X_syn = pd.DataFrame(X_syn)"
      ],
      "execution_count": 18,
      "outputs": []
    },
    {
      "cell_type": "code",
      "metadata": {
        "id": "Ka4jHcnshbgL"
      },
      "source": [
        "X_real.columns = ['init_win_bytes_fwd', 'subflow_fwd_bytes',\n",
        "       'total_length_of_fwd_packets', 'fwd_packet_length_std',\n",
        "       'bwd_packet_length_std', 'flow_iat_mean', 'fwd_iat_min', 'flow_iat_std',\n",
        "       'flow_duration', 'active_mean', 'fwd_psh_flags', 'syn_flag_count',\n",
        "       'fwd_packets_s']"
      ],
      "execution_count": 19,
      "outputs": []
    },
    {
      "cell_type": "code",
      "metadata": {
        "id": "lVpt3HKnk_xf"
      },
      "source": [
        "from keras.utils import np_utils\n",
        "\n",
        "y_real_oh = pd.DataFrame(y_real)\n",
        "y_syn_oh = pd.DataFrame(y_syn)\n",
        "\n",
        "y_real_oh = keras.utils.np_utils.to_categorical(y_real_oh)\n",
        "y_syn_oh = keras.utils.np_utils.to_categorical(y_syn_oh)"
      ],
      "execution_count": 21,
      "outputs": []
    },
    {
      "cell_type": "code",
      "metadata": {
        "id": "wAYCbMXknE5G"
      },
      "source": [
        "#X_syn = X_syn.sample(frac=1).reset_index(drop=True)"
      ],
      "execution_count": null,
      "outputs": []
    },
    {
      "cell_type": "code",
      "metadata": {
        "id": "yt5sJqeBnorT"
      },
      "source": [
        "from sklearn.model_selection import train_test_split\n",
        "X_syn_train, X_syn_test, y_syn_oh_train, y_syn_oh_test = train_test_split(X_syn, y_syn_oh, test_size = 0.3, random_state = 5)"
      ],
      "execution_count": 22,
      "outputs": []
    },
    {
      "cell_type": "code",
      "metadata": {
        "id": "hhouL0gAVf-7"
      },
      "source": [
        "from sklearn.model_selection import train_test_split\n",
        "X_real_train, X_real_test, y_real_oh_train, y_real_oh_test = train_test_split(X_real, y_real_oh, test_size = 0.3, random_state = 5)"
      ],
      "execution_count": 23,
      "outputs": []
    },
    {
      "cell_type": "code",
      "metadata": {
        "id": "wtXZRTNsqbN9"
      },
      "source": [
        "#print(\"training unique values:\",y_syn_oh_train.value_counts(), y_real_oh_train.value_counts(), \"test unique values\", y_syn_oh_test.value_counts(), y_real_oh_test.value_counts())"
      ],
      "execution_count": null,
      "outputs": []
    },
    {
      "cell_type": "code",
      "metadata": {
        "colab": {
          "base_uri": "https://localhost:8080/",
          "height": 204
        },
        "id": "9RxQFX2j4mqb",
        "outputId": "0719727b-d472-4114-b27f-0f8916dda2c7"
      },
      "source": [
        "X_syn_train.head()"
      ],
      "execution_count": 24,
      "outputs": [
        {
          "output_type": "execute_result",
          "data": {
            "text/html": [
              "<div>\n",
              "<style scoped>\n",
              "    .dataframe tbody tr th:only-of-type {\n",
              "        vertical-align: middle;\n",
              "    }\n",
              "\n",
              "    .dataframe tbody tr th {\n",
              "        vertical-align: top;\n",
              "    }\n",
              "\n",
              "    .dataframe thead th {\n",
              "        text-align: right;\n",
              "    }\n",
              "</style>\n",
              "<table border=\"1\" class=\"dataframe\">\n",
              "  <thead>\n",
              "    <tr style=\"text-align: right;\">\n",
              "      <th></th>\n",
              "      <th>0</th>\n",
              "      <th>1</th>\n",
              "      <th>2</th>\n",
              "      <th>3</th>\n",
              "      <th>4</th>\n",
              "      <th>5</th>\n",
              "      <th>6</th>\n",
              "      <th>7</th>\n",
              "      <th>8</th>\n",
              "      <th>9</th>\n",
              "      <th>10</th>\n",
              "      <th>11</th>\n",
              "      <th>12</th>\n",
              "    </tr>\n",
              "  </thead>\n",
              "  <tbody>\n",
              "    <tr>\n",
              "      <th>421050</th>\n",
              "      <td>-0.435897</td>\n",
              "      <td>0.389251</td>\n",
              "      <td>0.392915</td>\n",
              "      <td>-0.363805</td>\n",
              "      <td>-0.248593</td>\n",
              "      <td>0.112089</td>\n",
              "      <td>0.080325</td>\n",
              "      <td>0.224939</td>\n",
              "      <td>0.201603</td>\n",
              "      <td>-0.280585</td>\n",
              "      <td>-0.461942</td>\n",
              "      <td>-0.211666</td>\n",
              "      <td>-0.122455</td>\n",
              "    </tr>\n",
              "    <tr>\n",
              "      <th>272176</th>\n",
              "      <td>-0.316938</td>\n",
              "      <td>0.315148</td>\n",
              "      <td>0.307145</td>\n",
              "      <td>-0.285898</td>\n",
              "      <td>-0.142671</td>\n",
              "      <td>0.228396</td>\n",
              "      <td>0.071187</td>\n",
              "      <td>0.255537</td>\n",
              "      <td>0.282163</td>\n",
              "      <td>-0.211907</td>\n",
              "      <td>-0.335341</td>\n",
              "      <td>-0.116093</td>\n",
              "      <td>-0.195112</td>\n",
              "    </tr>\n",
              "    <tr>\n",
              "      <th>163708</th>\n",
              "      <td>-0.226811</td>\n",
              "      <td>0.308992</td>\n",
              "      <td>0.265401</td>\n",
              "      <td>-0.147660</td>\n",
              "      <td>-0.255510</td>\n",
              "      <td>0.162353</td>\n",
              "      <td>1.344224</td>\n",
              "      <td>0.202259</td>\n",
              "      <td>0.198814</td>\n",
              "      <td>-0.130232</td>\n",
              "      <td>-0.302622</td>\n",
              "      <td>-0.059002</td>\n",
              "      <td>-0.159128</td>\n",
              "    </tr>\n",
              "    <tr>\n",
              "      <th>569977</th>\n",
              "      <td>-0.296381</td>\n",
              "      <td>0.187766</td>\n",
              "      <td>0.207382</td>\n",
              "      <td>-0.061749</td>\n",
              "      <td>-0.152981</td>\n",
              "      <td>0.136355</td>\n",
              "      <td>-0.484977</td>\n",
              "      <td>0.345615</td>\n",
              "      <td>0.220339</td>\n",
              "      <td>-0.082358</td>\n",
              "      <td>-0.225930</td>\n",
              "      <td>-0.054660</td>\n",
              "      <td>-0.149771</td>\n",
              "    </tr>\n",
              "    <tr>\n",
              "      <th>368906</th>\n",
              "      <td>-0.343095</td>\n",
              "      <td>0.306321</td>\n",
              "      <td>0.313555</td>\n",
              "      <td>-0.122207</td>\n",
              "      <td>-0.115501</td>\n",
              "      <td>0.226355</td>\n",
              "      <td>0.585080</td>\n",
              "      <td>0.254748</td>\n",
              "      <td>0.283525</td>\n",
              "      <td>-0.164202</td>\n",
              "      <td>-0.266761</td>\n",
              "      <td>-0.216472</td>\n",
              "      <td>-0.220456</td>\n",
              "    </tr>\n",
              "  </tbody>\n",
              "</table>\n",
              "</div>"
            ],
            "text/plain": [
              "              0         1         2   ...        10        11        12\n",
              "421050 -0.435897  0.389251  0.392915  ... -0.461942 -0.211666 -0.122455\n",
              "272176 -0.316938  0.315148  0.307145  ... -0.335341 -0.116093 -0.195112\n",
              "163708 -0.226811  0.308992  0.265401  ... -0.302622 -0.059002 -0.159128\n",
              "569977 -0.296381  0.187766  0.207382  ... -0.225930 -0.054660 -0.149771\n",
              "368906 -0.343095  0.306321  0.313555  ... -0.266761 -0.216472 -0.220456\n",
              "\n",
              "[5 rows x 13 columns]"
            ]
          },
          "metadata": {},
          "execution_count": 24
        }
      ]
    },
    {
      "cell_type": "markdown",
      "metadata": {
        "id": "BKazsc8UkqfM"
      },
      "source": [
        "**-------------------------------------------------------**"
      ]
    },
    {
      "cell_type": "code",
      "metadata": {
        "id": "oNierrt4ktQS"
      },
      "source": [
        "from keras.models import Sequential\n",
        "from keras.layers import Dense\n",
        "from keras.wrappers.scikit_learn import KerasClassifier\n",
        "from keras.utils import np_utils\n",
        "from sklearn.model_selection import cross_val_score\n",
        "from sklearn.model_selection import KFold\n",
        "\n",
        "model = Sequential()\n",
        "model.add(Dense(24, input_dim=13, activation='relu'))\n",
        "model.add(Dense(18, activation='relu'))\n",
        "model.add(Dense(6, activation='softmax'))\n",
        "\n",
        "model.compile(loss='categorical_crossentropy', optimizer='adam', metrics=['accuracy'])\n",
        "#return model"
      ],
      "execution_count": 25,
      "outputs": []
    },
    {
      "cell_type": "markdown",
      "metadata": {
        "id": "D_RhIkWCktd6"
      },
      "source": [
        "**-------------------------------------------------------**"
      ]
    },
    {
      "cell_type": "code",
      "metadata": {
        "id": "MufkJY3nk-Ap"
      },
      "source": [
        "from sklearn.utils import class_weight\n",
        "import numpy as np\n",
        "\n",
        "class_weights = class_weight.compute_class_weight('balanced' , np.unique(y_real), y_real)\n",
        "class_weights = dict(enumerate(class_weights))\n",
        "\n",
        "history = model.fit(X_real_train, y_real_oh_train, batch_size = 512, class_weight=class_weights, verbose=2, epochs = 50, validation_split = 0.2)"
      ],
      "execution_count": null,
      "outputs": []
    },
    {
      "cell_type": "code",
      "metadata": {
        "colab": {
          "base_uri": "https://localhost:8080/"
        },
        "id": "_UGpyjiVipin",
        "outputId": "2e0a4dab-b61f-4437-e2eb-bb639ea50eb9"
      },
      "source": [
        "score, acc = model.evaluate(X_real_test, y_real_oh_test ,verbose=2, batch_size= 512)"
      ],
      "execution_count": 27,
      "outputs": [
        {
          "output_type": "stream",
          "name": "stdout",
          "text": [
            "731/731 - 1s - loss: 0.0695 - accuracy: 0.9745\n"
          ]
        }
      ]
    },
    {
      "cell_type": "code",
      "metadata": {
        "id": "cZIw3pgVi4Bn"
      },
      "source": [
        "yhat_probs= model.predict(X_real_test)\n",
        "yhat_classes= np.argmax(yhat_probs, axis=1)"
      ],
      "execution_count": 29,
      "outputs": []
    },
    {
      "cell_type": "code",
      "metadata": {
        "colab": {
          "base_uri": "https://localhost:8080/"
        },
        "id": "EXdpTx3pksil",
        "outputId": "7733c8cb-8485-416e-e7c0-05f6514e98ee"
      },
      "source": [
        "yhat_classes = pd.DataFrame(yhat_classes)\n",
        "yhat_classes.value_counts()"
      ],
      "execution_count": 30,
      "outputs": [
        {
          "output_type": "execute_result",
          "data": {
            "text/plain": [
              "0    341823\n",
              "1     25575\n",
              "5      3973\n",
              "2      2589\n",
              "4        18\n",
              "3         5\n",
              "dtype: int64"
            ]
          },
          "metadata": {},
          "execution_count": 30
        }
      ]
    },
    {
      "cell_type": "code",
      "metadata": {
        "id": "YWOWVDEfjBa_"
      },
      "source": [
        "y_test_rounded = np.argmax(y_real_oh_test, axis=1)"
      ],
      "execution_count": 31,
      "outputs": []
    },
    {
      "cell_type": "code",
      "metadata": {
        "id": "nQloYB_bjHkg",
        "colab": {
          "base_uri": "https://localhost:8080/"
        },
        "outputId": "8f400450-1662-433a-d69c-b448da6db408"
      },
      "source": [
        "from sklearn.metrics import accuracy_score, precision_score, recall_score, f1_score\n",
        "\n",
        "accuracy = accuracy_score(y_test_rounded, yhat_classes)\n",
        "print('Accuracy: %f' % accuracy)\n",
        "precision = precision_score(y_test_rounded, yhat_classes, average='weighted')\n",
        "print('Precision: %f' % precision)\n",
        "recall = recall_score(y_test_rounded, yhat_classes, average='weighted')\n",
        "print('Recall: %f' % recall)\n",
        "f1 = f1_score(y_test_rounded, yhat_classes, average='weighted')\n",
        "print('F1 score: %f' % f1)"
      ],
      "execution_count": 32,
      "outputs": [
        {
          "output_type": "stream",
          "name": "stdout",
          "text": [
            "Accuracy: 0.974510\n",
            "Precision: 0.986608\n",
            "Recall: 0.974510\n",
            "F1 score: 0.978988\n"
          ]
        }
      ]
    },
    {
      "cell_type": "code",
      "metadata": {
        "id": "C_ShROQ0d8U_"
      },
      "source": [
        "import matplotlib.pyplot as plt  \n",
        "from sklearn.metrics import confusion_matrix\n",
        "import seaborn as sn\n",
        "\n",
        "labels = [0, 1, 2, 3, 4, 5]\n",
        "\n",
        "cm = confusion_matrix(y_test_rounded, yhat_classes, labels)\n",
        "#print(cm)\n",
        "\n",
        "df_cm = pd.DataFrame(cm, range(6), range(6))\n",
        "sn.set(font_scale=1.4)\n",
        "\n",
        "plt.figure(figsize = (50,50))\n",
        "sn.heatmap(df_cm, annot=True)\n",
        "\n",
        "plt.show()\n"
      ],
      "execution_count": null,
      "outputs": []
    },
    {
      "cell_type": "code",
      "metadata": {
        "id": "zHhNCVD12qdW"
      },
      "source": [
        "class_weights = class_weight.compute_class_weight('balanced' , np.unique(y_syn), y_syn)\n",
        "class_weights = dict(enumerate(class_weights))\n",
        "\n",
        "history = model.fit(X_syn_train, y_syn_oh_train, batch_size = 512, class_weight=class_weights, epochs = 50, verbose = 2, validation_split = 0.2)"
      ],
      "execution_count": null,
      "outputs": []
    },
    {
      "cell_type": "markdown",
      "metadata": {
        "id": "Zu4E9AaYotCm"
      },
      "source": [
        "model seems to be overfitting somewhere? training same model twice on same execution?"
      ]
    },
    {
      "cell_type": "code",
      "metadata": {
        "colab": {
          "base_uri": "https://localhost:8080/"
        },
        "id": "kiaTnO1U3Rmu",
        "outputId": "c4c795bc-8063-4ac5-f733-14a5d7ba037e"
      },
      "source": [
        "# trained with synthetic data so now test with real data\n",
        "score, acc = model.evaluate(X_real_test, y_real_oh_test ,verbose=2, batch_size= 512)"
      ],
      "execution_count": 37,
      "outputs": [
        {
          "output_type": "stream",
          "name": "stdout",
          "text": [
            "731/731 - 1s - loss: 4.4604 - accuracy: 0.8055\n"
          ]
        }
      ]
    },
    {
      "cell_type": "code",
      "metadata": {
        "id": "IboIhtw33Y4C"
      },
      "source": [
        "yhat_probs= model.predict(X_real_test)\n",
        "yhat_classes= np.argmax(yhat_probs, axis=1)\n"
      ],
      "execution_count": 39,
      "outputs": []
    },
    {
      "cell_type": "code",
      "metadata": {
        "colab": {
          "base_uri": "https://localhost:8080/"
        },
        "id": "ns7301i93dtt",
        "outputId": "23b06e88-ad95-402f-8386-a17b914e6392"
      },
      "source": [
        "yhat_classes = pd.DataFrame(yhat_classes)\n",
        "yhat_classes.value_counts()"
      ],
      "execution_count": 40,
      "outputs": [
        {
          "output_type": "execute_result",
          "data": {
            "text/plain": [
              "0    301673\n",
              "1     67774\n",
              "5      4311\n",
              "2       225\n",
              "dtype: int64"
            ]
          },
          "metadata": {},
          "execution_count": 40
        }
      ]
    },
    {
      "cell_type": "code",
      "metadata": {
        "id": "DM61wj4N3fat"
      },
      "source": [
        "y_test_rounded = np.argmax(y_real_oh_test, axis=1)"
      ],
      "execution_count": 41,
      "outputs": []
    },
    {
      "cell_type": "code",
      "metadata": {
        "colab": {
          "base_uri": "https://localhost:8080/"
        },
        "id": "JbwO36hJ3joR",
        "outputId": "4c3426e5-ef68-4d9c-f68f-6c6c1b699351"
      },
      "source": [
        "accuracy = accuracy_score(y_test_rounded, yhat_classes)\n",
        "print('Accuracy: %f' % accuracy)\n",
        "precision = precision_score(y_test_rounded, yhat_classes, average='weighted')\n",
        "print('Precision: %f' % precision)\n",
        "recall = recall_score(y_test_rounded, yhat_classes, average='weighted')\n",
        "print('Recall: %f' % recall)\n",
        "f1 = f1_score(y_test_rounded, yhat_classes, average='weighted')\n",
        "print('F1 score: %f' % f1)"
      ],
      "execution_count": 42,
      "outputs": [
        {
          "output_type": "stream",
          "name": "stdout",
          "text": [
            "Accuracy: 0.805462\n",
            "Precision: 0.912788\n"
          ]
        },
        {
          "output_type": "stream",
          "name": "stderr",
          "text": [
            "/usr/local/lib/python3.7/dist-packages/sklearn/metrics/_classification.py:1272: UndefinedMetricWarning: Precision is ill-defined and being set to 0.0 in labels with no predicted samples. Use `zero_division` parameter to control this behavior.\n",
            "  _warn_prf(average, modifier, msg_start, len(result))\n"
          ]
        },
        {
          "output_type": "stream",
          "name": "stdout",
          "text": [
            "Recall: 0.805462\n",
            "F1 score: 0.849012\n"
          ]
        }
      ]
    },
    {
      "cell_type": "code",
      "metadata": {
        "id": "0a0qQ1HL3lp3",
        "colab": {
          "base_uri": "https://localhost:8080/",
          "height": 1000
        },
        "outputId": "a7ad0b55-d2eb-4be3-c0ea-fe4ec5b6f15b"
      },
      "source": [
        "labels = [0, 1, 2, 3, 4, 5]\n",
        "\n",
        "cm = confusion_matrix(y_test_rounded, yhat_classes, labels)\n",
        "#print(cm)\n",
        "\n",
        "df_cm = pd.DataFrame(cm, range(6), range(6))\n",
        "sn.set(font_scale=3)\n",
        "\n",
        "plt.figure(figsize = (50,50))\n",
        "sn.heatmap(df_cm, annot=True)\n",
        "\n",
        "plt.show()\n"
      ],
      "execution_count": 44,
      "outputs": [
        {
          "output_type": "display_data",
          "data": {
            "image/png": "[encoded data removed]",
            "text/plain": [
              "<Figure size 3600x3600 with 2 Axes>"
            ]
          },
          "metadata": {}
        }
      ]
    },
    {
      "cell_type": "markdown",
      "metadata": {
        "id": "z2n0ZR0spSdU"
      },
      "source": [
        "results discussed in dissertation. model shows deceptively high evaluation metrics due to performing well at classifying specific classes, which has the high number of samples. suggests this vanilla GAN model struggles at generating synthetic data if sample sizes are too low. discuss further."
      ]
    }
  ]
}